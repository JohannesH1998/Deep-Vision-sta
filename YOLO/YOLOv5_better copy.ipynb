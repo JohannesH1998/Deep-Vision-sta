{
 "cells": [
  {
   "cell_type": "code",
   "execution_count": 6,
   "metadata": {},
   "outputs": [],
   "source": [
    "# Import\n",
    "import os\n",
    "import json\n",
    "import shutil\n",
    "import cv2"
   ]
  },
  {
   "cell_type": "markdown",
   "metadata": {},
   "source": [
    "### Installation von YOLOv5 mit Git und pip"
   ]
  },
  {
   "cell_type": "code",
   "execution_count": null,
   "metadata": {},
   "outputs": [],
   "source": [
    "!git clone \"https://github.com/ultralytics/yolov5.git\"\n",
    "%cd yolov5\n",
    "%pip install -qr requirements.txt\n",
    "%cd .."
   ]
  },
  {
   "cell_type": "markdown",
   "metadata": {},
   "source": [
    "### Kopieren von Bildern in den YOLOv5-Dataset-Ordner und Konvertieren von JSON-Daten in das YOLOv5-Format (txt)\n",
    "\n",
    "YOLOv5 txt Format:  \n",
    "0 0.4855699855699856 0.3187725631768953 0.3203463203463203 0.3689530685920578  \n",
    "Koordinaten werden Normalisiert, Höhe und Breite d. Bounding Box (in Abhängigkeit von der Bildgröße). Ersetzen der Klassennamen durch Klassenindizes."
   ]
  },
  {
   "cell_type": "code",
   "execution_count": 7,
   "metadata": {},
   "outputs": [],
   "source": [
    "# Bilder in yolov5/dataset/images kopieren\n",
    "def copy_images_to_dataset(images_dir, output_dir):\n",
    "    if not os.path.exists(output_dir):\n",
    "        os.makedirs(output_dir)\n",
    "\n",
    "    for filename in os.listdir(images_dir):\n",
    "        image_path = os.path.join(images_dir, filename)\n",
    "        output_path = os.path.join(output_dir, filename)\n",
    "\n",
    "        shutil.copy(image_path, output_path)"
   ]
  },
  {
   "cell_type": "code",
   "execution_count": 11,
   "metadata": {},
   "outputs": [],
   "source": [
    "# JSON Daten in YOLOv5-Format konvertieren. Normalisieren der Koordinaten, Höhe und Breite d. Bounding Box \n",
    "# (in Abhängigkeit von der Bildgröße). Ersetzen der Klassennamen durch Klassenindizes. Erstellung einer\n",
    "# classes.txt-Datei mit den Klassennamen und den zugehörigen Klassenindizes.\n",
    "\n",
    "def convert_to_yolov5_format(json_dir, image_dir, output_dir):\n",
    "    if not os.path.exists(output_dir):\n",
    "        os.makedirs(output_dir)\n",
    "\n",
    "    class_mapping = {}\n",
    "    class_index = 0\n",
    "\n",
    "    # Erstelle YOLOv5-Annotationen\n",
    "    for filename in os.listdir(json_dir):\n",
    "        if filename.endswith(\".json\"):\n",
    "            json_path = os.path.join(json_dir, filename)\n",
    "            image_filename = os.path.splitext(filename)[0]\n",
    "            image_path = os.path.join(image_dir, image_filename)\n",
    "\n",
    "            with open(json_path, 'r') as f:\n",
    "                json_data = json.load(f)\n",
    "\n",
    "            image = cv2.imread(image_path)\n",
    "            image_height, image_width, _ = image.shape\n",
    "\n",
    "            yolo_annotations = []\n",
    "            for bbox in json_data[\"Annotations\"]:\n",
    "                x_min, y_min, x_max, y_max = bbox[\"BoundingBox\"]\n",
    "                class_name = bbox[\"classname\"]\n",
    "\n",
    "                if class_name not in class_mapping:\n",
    "                    class_mapping[class_name] = class_index\n",
    "                    class_index += 1\n",
    "\n",
    "                class_index = class_mapping[class_name]\n",
    "\n",
    "                # Normalisierung der Koordinaten\n",
    "                x_center = (x_min + x_max) / (2 * image_width)\n",
    "                y_center = (y_min + y_max) / (2 * image_height)\n",
    "                width = (x_max - x_min) / image_width\n",
    "                height = (y_max - y_min) / image_height\n",
    "\n",
    "                yolo_annotation = f\"{class_index} {x_center} {y_center} {width} {height}\"\n",
    "                yolo_annotations.append(yolo_annotation)\n",
    "\n",
    "            output_filename = f\"{image_filename.split('.')[0]}.txt\"\n",
    "            output_path = os.path.join(output_dir, output_filename)\n",
    "\n",
    "            with open(output_path, 'w') as f:\n",
    "                for annotation in yolo_annotations:\n",
    "                    f.write(annotation + '\\n')\n",
    "\n",
    "    # Erstelle classes.txt-Datei\n",
    "    classes_file_path = os.path.join(output_dir, \"classes.txt\")\n",
    "    with open(classes_file_path, 'w') as f:\n",
    "        for class_name, class_index in class_mapping.items():\n",
    "            f.write(f\"{class_name}\\n\")"
   ]
  },
  {
   "cell_type": "code",
   "execution_count": 12,
   "metadata": {},
   "outputs": [],
   "source": [
    "# Pfad zu den JSON-Daten und Bildern\n",
    "json_dir = \"../Datasets/Face Mask Detection Dataset/Medical mask/Medical mask/Medical Mask/annotations\" \n",
    "image_dir = \"../Datasets/Face Mask Detection Dataset/Medical mask/Medical mask/Medical Mask/images\"  \n",
    "\n",
    "# Pfad zu den YOLOv5 Dataset-Ordnern\n",
    "labels_output_dir = \"yolov5/dataset/labels\"  \n",
    "image_output_dir = \"yolov5/dataset/images\"  "
   ]
  },
  {
   "cell_type": "code",
   "execution_count": null,
   "metadata": {},
   "outputs": [],
   "source": []
  },
  {
   "cell_type": "code",
   "execution_count": 13,
   "metadata": {},
   "outputs": [
    {
     "name": "stdout",
     "output_type": "stream",
     "text": [
      "Konvertierung erfolgreich.\n"
     ]
    }
   ],
   "source": [
    "# Konvertierung\n",
    "if os.path.exists(image_dir) and os.path.exists(json_dir):\n",
    "    copy_images_to_dataset(image_dir, image_output_dir)\n",
    "    convert_to_yolov5_format(json_dir, image_dir, labels_output_dir)\n",
    "    print(\"Konvertierung erfolgreich.\")\n",
    "else:\n",
    "    if not os.path.exists(image_dir):\n",
    "        print(\"Image Pfad existiert nicht.\")\n",
    "    elif not os.path.exists(json_dir):\n",
    "        print(\"Annotations Pfad existiert nicht.\")\n",
    "    else:\n",
    "        print(\"unbekannter Fehler.\")"
   ]
  },
  {
   "cell_type": "markdown",
   "metadata": {},
   "source": [
    "### Training von YOLOv5 mit WandB-Integration und Upload des Datasets"
   ]
  },
  {
   "cell_type": "markdown",
   "metadata": {},
   "source": [
    "conda install pytorch=1.9.0 cudatoolkit=11.1 -c pytorch -c conda-forge  \n",
    "damit es läuft\n",
    "torchvision               0.10.0+cu111"
   ]
  },
  {
   "cell_type": "code",
   "execution_count": 15,
   "metadata": {},
   "outputs": [
    {
     "name": "stdout",
     "output_type": "stream",
     "text": [
      "Setup complete. Using torch 1.9.0 _CudaDeviceProperties(name='NVIDIA GeForce RTX 3080', major=8, minor=6, total_memory=10239MB, multi_processor_count=68)\n"
     ]
    }
   ],
   "source": [
    "import torch\n",
    "print('Setup complete. Using torch %s %s' % (torch.__version__, torch.cuda.get_device_properties(0) if torch.cuda.is_available() else 'CPU'))"
   ]
  },
  {
   "cell_type": "code",
   "execution_count": 16,
   "metadata": {},
   "outputs": [
    {
     "name": "stderr",
     "output_type": "stream",
     "text": [
      "Failed to detect the name of this notebook, you can set it manually with the WANDB_NOTEBOOK_NAME environment variable to enable code saving.\n",
      "\u001b[34m\u001b[1mwandb\u001b[0m: Currently logged in as: \u001b[33msaniye-ogul98\u001b[0m (\u001b[33mchillibuddies\u001b[0m). Use \u001b[1m`wandb login --relogin`\u001b[0m to force relogin\n"
     ]
    },
    {
     "data": {
      "text/plain": [
       "True"
      ]
     },
     "execution_count": 16,
     "metadata": {},
     "output_type": "execute_result"
    }
   ],
   "source": [
    "import wandb\n",
    "wandb.login()"
   ]
  },
  {
   "cell_type": "code",
   "execution_count": 17,
   "metadata": {},
   "outputs": [
    {
     "name": "stdout",
     "output_type": "stream",
     "text": [
      "c:\\Users\\Saniye\\Documents\\GitHub\\Deep-Vision-sta\\YOLO\\yolov5\n"
     ]
    }
   ],
   "source": [
    "%cd yolov5"
   ]
  },
  {
   "cell_type": "code",
   "execution_count": 18,
   "metadata": {},
   "outputs": [
    {
     "name": "stderr",
     "output_type": "stream",
     "text": [
      "\u001b[34m\u001b[1mwandb\u001b[0m: WARNING  wandb is deprecated and will be removed in a future release. See supported integrations at https://github.com/ultralytics/yolov5#integrations.\n",
      "wandb: Currently logged in as: saniye-ogul98 (chillibuddies). Use `wandb login --relogin` to force relogin\n",
      "\u001b[34m\u001b[1mtrain: \u001b[0mweights='', cfg=yolov5s.yaml, data=dataset/data.yaml, hyp=data\\hyps\\hyp.scratch-low.yaml, epochs=10, batch_size=4, imgsz=640, rect=False, resume=False, nosave=False, noval=False, noautoanchor=False, noplots=False, evolve=None, bucket=, cache=None, image_weights=False, device=, multi_scale=False, single_cls=False, optimizer=SGD, sync_bn=False, workers=8, project=runs\\train, name=exp, exist_ok=False, quad=False, cos_lr=False, label_smoothing=0.0, patience=100, freeze=[0], save_period=-1, seed=0, local_rank=-1, entity=None, upload_dataset=True, bbox_interval=1, artifact_alias=latest\n",
      "\u001b[34m\u001b[1mgithub: \u001b[0m YOLOv5 is out of date by 1 commit. Use 'git pull' or 'git clone https://github.com/ultralytics/yolov5' to update.\n",
      "Traceback (most recent call last):\n",
      "  File \"c:\\Users\\Saniye\\Documents\\GitHub\\Deep-Vision-sta\\YOLO\\yolov5\\train.py\", line 647, in <module>\n",
      "    main(opt)\n",
      "  File \"c:\\Users\\Saniye\\Documents\\GitHub\\Deep-Vision-sta\\YOLO\\yolov5\\train.py\", line 511, in main\n",
      "    check_file(opt.data), check_yaml(opt.cfg), check_yaml(opt.hyp), str(opt.weights), str(opt.project)  # checks\n",
      "  File \"c:\\Users\\Saniye\\Documents\\GitHub\\Deep-Vision-sta\\YOLO\\yolov5\\utils\\general.py\", line 458, in check_file\n",
      "    assert len(files), f'File not found: {file}'  # assert file was found\n",
      "AssertionError: File not found: dataset/data.yaml\n"
     ]
    }
   ],
   "source": [
    "!python train.py --data dataset/data.yaml --epochs 10 --weights '' --cfg yolov5s.yaml  --batch-size 4 --upload_dataset --bbox_interval 1 --img 640"
   ]
  },
  {
   "cell_type": "code",
   "execution_count": null,
   "metadata": {},
   "outputs": [],
   "source": []
  },
  {
   "cell_type": "code",
   "execution_count": null,
   "metadata": {},
   "outputs": [],
   "source": []
  },
  {
   "cell_type": "code",
   "execution_count": null,
   "metadata": {},
   "outputs": [],
   "source": []
  }
 ],
 "metadata": {
  "kernelspec": {
   "display_name": "Python 3 (ipykernel)",
   "language": "python",
   "name": "python3"
  },
  "language_info": {
   "codemirror_mode": {
    "name": "ipython",
    "version": 3
   },
   "file_extension": ".py",
   "mimetype": "text/x-python",
   "name": "python",
   "nbconvert_exporter": "python",
   "pygments_lexer": "ipython3",
   "version": "3.9.16"
  }
 },
 "nbformat": 4,
 "nbformat_minor": 2
}
