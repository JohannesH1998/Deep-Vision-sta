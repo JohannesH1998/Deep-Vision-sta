{
 "cells": [
  {
   "cell_type": "code",
   "execution_count": 1,
   "metadata": {},
   "outputs": [],
   "source": [
    "#PARAMETERS\n",
    "BATCH_SIZE = 2\n",
    "NUM_EPOCHS = 10\n",
    "LEARNING_RATE = 0.005\n",
    "TRAIN_PERCENTAGE = .8\n",
    "NUM_CLASSES = 20"
   ]
  },
  {
   "cell_type": "code",
   "execution_count": 2,
   "metadata": {},
   "outputs": [],
   "source": [
    "import torch\n",
    "from torchvision.models.detection import fasterrcnn_resnet50_fpn\n",
    "from torchvision.transforms import transforms\n",
    "from torchvision.datasets import CocoDetection\n",
    "from torch.utils.data import DataLoader\n",
    "from torch.optim import SGD\n",
    "from torchvision.models.detection.faster_rcnn import FastRCNNPredictor\n",
    "#from engine import train_one_epoch, evaluate\n",
    "\n",
    "import torch\n",
    "import torchvision\n",
    "from torchvision.models.detection.faster_rcnn import FastRCNNPredictor\n",
    "from torchvision.transforms import functional as F\n",
    "from torch.utils.data import Dataset, DataLoader\n",
    "import json\n",
    "import PIL.Image\n",
    "from matplotlib import pyplot as plt"
   ]
  },
  {
   "cell_type": "code",
   "execution_count": 3,
   "metadata": {},
   "outputs": [
    {
     "name": "stdout",
     "output_type": "stream",
     "text": [
      "Microsoft Windows [Version 10.0.19045.3208]\n",
      "(c) Microsoft Corporation. Alle Rechte vorbehalten.\n",
      "\n",
      "(DV-STA) c:\\GIT_Workspaces\\Deep-Vision-sta\\Faster R-CNN>git clone https://github.com/pytorch/vision.git\n"
     ]
    },
    {
     "name": "stderr",
     "output_type": "stream",
     "text": [
      "fatal: destination path 'vision' already exists and is not an empty directory.\n"
     ]
    },
    {
     "name": "stdout",
     "output_type": "stream",
     "text": [
      "\n",
      "(DV-STA) c:\\GIT_Workspaces\\Deep-Vision-sta\\Faster R-CNN>"
     ]
    }
   ],
   "source": [
    "%%cmd\n",
    "git clone https://github.com/pytorch/vision.git"
   ]
  },
  {
   "cell_type": "code",
   "execution_count": 4,
   "metadata": {},
   "outputs": [],
   "source": [
    "import shutil\n",
    "\n",
    "#FUNCTIONS ARE MODIFIED DO NOT RUN THIS OR PROGRESS WILL BE LOST!\n",
    "# shutil.copy(\"vision/references/detection/utils.py\", \"./\")\n",
    "# shutil.copy(\"vision/references/detection/transforms.py\", \"./\")\n",
    "# shutil.copy(\"vision/references/detection/coco_eval.py\", \"./\")\n",
    "# shutil.copy(\"vision/references/detection/engine.py\", \"./\")\n",
    "# shutil.copy(\"vision/references/detection/coco_utils.py\", \"./\")"
   ]
  },
  {
   "cell_type": "code",
   "execution_count": 5,
   "metadata": {},
   "outputs": [],
   "source": [
    "import cv2\n",
    "from IPython.display import display, Image\n",
    "\n",
    "def draw_annotation(image_path, annotation):\n",
    "    # Load the image\n",
    "    image = cv2.imread(image_path)\n",
    "    \n",
    "    # Extract the annotation details\n",
    "    filename = annotation[\"FileName\"]\n",
    "    annotations = annotation[\"Annotations\"]\n",
    "    \n",
    "    # Process each annotation\n",
    "    for annot in annotations:\n",
    "        bounding_box = annot[\"BoundingBox\"]\n",
    "        class_name = annot[\"classname\"]\n",
    "        \n",
    "        # Draw the bounding box\n",
    "        x_min, y_min, x_max, y_max = bounding_box\n",
    "        print(x_min, y_min, x_max, y_max)\n",
    "        cv2.rectangle(image, (x_min, y_min), (x_max, y_max), (0, 255, 0), 2)\n",
    "        \n",
    "        # Add the class label\n",
    "        text = f\"{class_name}\"\n",
    "        cv2.putText(image, text, (x_min, y_min - 10), cv2.FONT_HERSHEY_SIMPLEX, 0.9, (0, 255, 0), 2)\n",
    "\n",
    "        #make a dot at x_min, y_min and x_max, y_max\n",
    "        cv2.circle(image, (x_min, y_min), 5, (0, 0, 255), -1)\n",
    "        cv2.circle(image, (x_max, y_max), 5, (255, 0, 0), -1)\n",
    "    \n",
    "    # Save the image with annotations\n",
    "    annotated_image_path = \"annotated_image.jpg\"\n",
    "    cv2.imwrite(annotated_image_path, image)\n",
    "    \n",
    "    # Display the image in the notebook\n",
    "    display(Image(filename=annotated_image_path))\n"
   ]
  },
  {
   "cell_type": "code",
   "execution_count": 6,
   "metadata": {},
   "outputs": [],
   "source": [
    "CLASS_LABELS = {\n",
    "    \"hijab_niqab\": 0,\n",
    "    \"mask_colorful\": 1,\n",
    "    \"mask_surgical\": 2,\n",
    "    \"face_no_mask\": 3,\n",
    "    \"face_with_mask_incorrect\": 4,\n",
    "    \"face_with_mask\": 5,\n",
    "    \"face_other_covering\": 6,\n",
    "    \"scarf_bandana\": 7,\n",
    "    \"balaclava_ski_mask\": 8,\n",
    "    \"face_shield\": 9,\n",
    "    \"other\": 10,\n",
    "    \"gas_mask\": 11,\n",
    "    \"turban\": 12,\n",
    "    \"helmet\": 13,\n",
    "    \"sunglasses\": 14,\n",
    "    \"eyeglasses\": 15,\n",
    "    \"hair_net\": 16,\n",
    "    \"hat\": 17,\n",
    "    \"goggles\": 18,\n",
    "    \"hood\": 19\n",
    "}"
   ]
  },
  {
   "cell_type": "code",
   "execution_count": null,
   "metadata": {},
   "outputs": [],
   "source": []
  },
  {
   "cell_type": "code",
   "execution_count": 7,
   "metadata": {},
   "outputs": [
    {
     "name": "stdout",
     "output_type": "stream",
     "text": [
      "{'FileName': '2006.jpg', 'NumOfAnno': 4, 'Annotations': [{'isProtected': False, 'ID': 280459329561863488, 'BoundingBox': [276, 145, 377, 255], 'classname': 'face_with_mask', 'Confidence': 1, 'Attributes': {}}, {'isProtected': False, 'ID': 239543555427487392, 'BoundingBox': [207, 50, 310, 178], 'classname': 'face_with_mask', 'Confidence': 1, 'Attributes': {}}, {'isProtected': False, 'ID': 442800710251389568, 'BoundingBox': [287, 188, 364, 245], 'classname': 'mask_surgical', 'Confidence': 1, 'Attributes': {}}, {'isProtected': False, 'ID': 293325675214463168, 'BoundingBox': [219, 96, 303, 169], 'classname': 'mask_surgical', 'Confidence': 1, 'Attributes': {}}]}\n",
      "276 145 377 255\n",
      "207 50 310 178\n",
      "287 188 364 245\n",
      "219 96 303 169\n"
     ]
    },
    {
     "data": {
      "image/jpeg": "[encoded data removed]",
      "text/plain": [
       "<IPython.core.display.Image object>"
      ]
     },
     "metadata": {},
     "output_type": "display_data"
    }
   ],
   "source": [
    "number = 2006\n",
    "\n",
    "\n",
    "image_path = \"C:\\GIT_Workspaces\\Deep-Vision-sta\\Datasets\\Face Mask Detection Dataset\\Medical mask\\Medical mask\\Medical Mask\\images\\\\{number}.jpg\".format(number=number)\n",
    "\n",
    "#read json file\n",
    "import json\n",
    "with open('C:\\GIT_Workspaces\\Deep-Vision-sta\\Datasets\\Face Mask Detection Dataset\\Medical mask\\Medical mask\\Medical Mask\\\\annotations\\\\{number}.jpg.json'.format(number=number)) as json_file:\n",
    "    annotation = json.load(json_file)\n",
    "\n",
    "print(annotation)\n",
    "\n",
    "draw_annotation(image_path, annotation)"
   ]
  },
  {
   "cell_type": "code",
   "execution_count": 8,
   "metadata": {},
   "outputs": [
    {
     "name": "stdout",
     "output_type": "stream",
     "text": [
      "20\n"
     ]
    }
   ],
   "source": [
    "#open the json file at Datasets\\Face Mask Detection Dataset\\Medical mask\\Medical mask\\meta.json\n",
    "\n",
    "import json\n",
    "with open('C:\\GIT_Workspaces\\Deep-Vision-sta\\Datasets\\Face Mask Detection Dataset\\Medical mask\\Medical mask\\meta.json') as json_file:\n",
    "    meta = json.load(json_file)\n",
    "\n",
    "#copunt the entries in classes\n",
    "print(len(meta[\"classes\"]))"
   ]
  },
  {
   "cell_type": "code",
   "execution_count": null,
   "metadata": {},
   "outputs": [],
   "source": []
  },
  {
   "cell_type": "code",
   "execution_count": 9,
   "metadata": {},
   "outputs": [],
   "source": [
    "import os\n",
    "import PIL.Image as Image\n",
    "\n",
    "import cv2\n",
    "import numpy as np\n",
    "import torch\n",
    "import torchvision.transforms.functional as F\n",
    "import os\n",
    "import json\n",
    "import PIL.Image\n",
    "import xml.etree.ElementTree as et\n",
    "\n",
    "class MaskDetectionDataset(Dataset):\n",
    "    def __init__(self, root_dir, target_size=(600, 900)):\n",
    "        self.root_dir = root_dir\n",
    "        self.annotations = []\n",
    "        self.target_size = target_size\n",
    "        self.load_annotations()\n",
    "\n",
    "    def load_annotations(self):\n",
    "        annotation_files = os.listdir(f\"{self.root_dir}/annotations\")\n",
    "        for file_name in annotation_files:\n",
    "            with open(f\"{self.root_dir}/annotations/{file_name}\", \"r\") as f:\n",
    "                annotation_data = json.load(f)\n",
    "                annotations = annotation_data[\"Annotations\"]\n",
    "                file_name = annotation_data[\"FileName\"]\n",
    "                self.annotations.append((annotations, file_name))\n",
    "                # Check if the boxes are valid\n",
    "                for annotation in annotations:\n",
    "                    boxes = annotation[\"BoundingBox\"]\n",
    "                    if boxes[0] >= boxes[2] or boxes[1] >= boxes[3]:\n",
    "                        print(\"Invalid bounding box coordinates in file:\", file_name)\n",
    "                        break\n",
    "\n",
    "    def __len__(self):\n",
    "        return len(self.annotations)\n",
    "\n",
    "    def __getitem__(self, idx):\n",
    "        annotations = self.annotations[idx][0]\n",
    "        file_name = self.annotations[idx][1]\n",
    "        image_path = f\"{self.root_dir}/images/{file_name}\"\n",
    "        image = PIL.Image.open(image_path).convert(\"RGB\")\n",
    "        original_image_width, original_image_height = image.size\n",
    "        image = F.resize(image, self.target_size)\n",
    "        image = F.to_tensor(image)\n",
    "\n",
    "        boxes = []\n",
    "        labels = []\n",
    "        for annotation in annotations:\n",
    "            box = annotation[\"BoundingBox\"]\n",
    "            if box[0] < box[2] and box[1] < box[3]:\n",
    "                # Resize the bounding box coordinates\n",
    "                box_resized = [\n",
    "                    box[0] * self.target_size[0] / original_image_width,\n",
    "                    box[1] * self.target_size[1] / original_image_height,\n",
    "                    box[2] * self.target_size[0] / original_image_width,\n",
    "                    box[3] * self.target_size[1] / original_image_height\n",
    "                ]\n",
    "                boxes.append(box_resized)\n",
    "                class_name = annotation[\"classname\"]\n",
    "                # Get the class label based on the class name\n",
    "                class_label = self.get_class_label(class_name)\n",
    "                labels.append(class_label)\n",
    "\n",
    "        boxes = torch.tensor(boxes, dtype=torch.float32)\n",
    "        labels = torch.tensor(labels, dtype=torch.int64)\n",
    "\n",
    "        target = {}\n",
    "        target[\"boxes\"] = boxes\n",
    "        target[\"labels\"] = labels\n",
    "        target[\"area\"] = (boxes[:, 3] - boxes[:, 1]) * (boxes[:, 2] - boxes[:, 0])\n",
    "        target[\"iscrowd\"] = torch.zeros((boxes.shape[0],), dtype=torch.int64)\n",
    "        target[\"image_id\"] = torch.tensor([idx])\n",
    "\n",
    "        return image, target\n",
    "\n",
    "    \n",
    "    def get_class_label(self, class_name):\n",
    "        return CLASS_LABELS.get(class_name, -1)  # Return -1 if class_name is not found\n",
    "\n",
    "\n",
    "\n",
    "\n"
   ]
  },
  {
   "cell_type": "code",
   "execution_count": 22,
   "metadata": {},
   "outputs": [],
   "source": [
    "from face_mask_datasets import MaskDetectionDatasetJSON, MaskDetectionDatasetXML\n",
    "\n",
    "dataset = MaskDetectionDatasetJSON(\"C:\\GIT_Workspaces\\Deep-Vision-sta\\Datasets\\Face Mask Detection Dataset\\Medical mask\\Medical mask\\Medical Mask\", CLASS_LABELS, (512,512),[0,1,2,3,4,5,6,7,8,9,10,11,12,13,14,15,16,17,18,19])\n",
    "#dataset_singleFaces = MaskDetectionDatasetJSON(\"C:\\GIT_Workspaces\\Deep-Vision-sta\\Datasets\\Face Mask Detection Dataset\\Medical mask\\Medical mask\\Medical Mask\",(512,512))\n",
    "\n",
    "#dataset_xml = MaskDetectionDatasetXML(\"C:\\GIT_Workspaces\\Deep-Vision-sta\\Datasets\\Kaggle Face Mask Detection Full\",(512,512))"
   ]
  },
  {
   "cell_type": "code",
   "execution_count": null,
   "metadata": {},
   "outputs": [],
   "source": []
  },
  {
   "cell_type": "code",
   "execution_count": 23,
   "metadata": {},
   "outputs": [
    {
     "data": {
      "text/plain": [
       "4326"
      ]
     },
     "execution_count": 23,
     "metadata": {},
     "output_type": "execute_result"
    }
   ],
   "source": [
    "dataset.__len__()"
   ]
  },
  {
   "cell_type": "code",
   "execution_count": 24,
   "metadata": {},
   "outputs": [],
   "source": [
    "#dataset_singleFaces.__len__()"
   ]
  },
  {
   "cell_type": "code",
   "execution_count": 25,
   "metadata": {},
   "outputs": [],
   "source": [
    "# Split the dataset into training and validation sets (adjust the split ratio as needed)\n",
    "train_size = int(TRAIN_PERCENTAGE * len(dataset))\n",
    "val_size = len(dataset) - train_size\n",
    "train_dataset, val_dataset = torch.utils.data.random_split(dataset, [train_size, val_size])\n"
   ]
  },
  {
   "cell_type": "code",
   "execution_count": 26,
   "metadata": {},
   "outputs": [],
   "source": [
    "import utils\n",
    "\n",
    "train_data_loader = DataLoader(train_dataset, batch_size=BATCH_SIZE, shuffle=True, collate_fn=utils.collate_fn)\n",
    "val_data_loader = DataLoader(val_dataset, batch_size=BATCH_SIZE, shuffle=False, collate_fn=utils.collate_fn)"
   ]
  },
  {
   "cell_type": "code",
   "execution_count": 27,
   "metadata": {},
   "outputs": [
    {
     "name": "stderr",
     "output_type": "stream",
     "text": [
      "c:\\Users\\johan\\.conda\\envs\\DV-STA\\lib\\site-packages\\torchvision\\models\\_utils.py:208: UserWarning: The parameter 'pretrained' is deprecated since 0.13 and may be removed in the future, please use 'weights' instead.\n",
      "  warnings.warn(\n",
      "c:\\Users\\johan\\.conda\\envs\\DV-STA\\lib\\site-packages\\torchvision\\models\\_utils.py:223: UserWarning: Arguments other than a weight enum or `None` for 'weights' are deprecated since 0.13 and may be removed in the future. The current behavior is equivalent to passing `weights=FasterRCNN_ResNet50_FPN_Weights.COCO_V1`. You can also use `weights=FasterRCNN_ResNet50_FPN_Weights.DEFAULT` to get the most up-to-date weights.\n",
      "  warnings.warn(msg)\n"
     ]
    }
   ],
   "source": [
    "model = torchvision.models.detection.fasterrcnn_resnet50_fpn(pretrained=True)\n",
    "in_features = model.roi_heads.box_predictor.cls_score.in_features\n",
    "model.roi_heads.box_predictor = FastRCNNPredictor(in_features, NUM_CLASSES)"
   ]
  },
  {
   "cell_type": "code",
   "execution_count": 28,
   "metadata": {},
   "outputs": [],
   "source": [
    "params = [p for p in model.parameters() if p.requires_grad]\n",
    "optimizer = torch.optim.SGD(params, lr=LEARNING_RATE, momentum=0.9, weight_decay=0.0005)\n",
    "\n",
    "# Learning rate scheduler (optional)\n",
    "lr_scheduler = torch.optim.lr_scheduler.StepLR(optimizer, step_size=3, gamma=0.1)"
   ]
  },
  {
   "cell_type": "code",
   "execution_count": null,
   "metadata": {},
   "outputs": [],
   "source": []
  },
  {
   "cell_type": "code",
   "execution_count": 29,
   "metadata": {},
   "outputs": [],
   "source": [
    "# import torch\n",
    "# from torch.utils.data import DataLoader\n",
    "# from torchvision.models.detection.roi_heads import fastrcnn_loss\n",
    "\n",
    "# def calculate_validation_loss(model, data_loader, criterion, device):\n",
    "#     model.eval()\n",
    "#     total_loss = 0.0\n",
    "#     num_samples = 0\n",
    "\n",
    "#     with torch.no_grad():\n",
    "#         for batch in data_loader:\n",
    "#             images = batch['image'].to(device)\n",
    "#             targets = batch['targets']\n",
    "\n",
    "#             # Unpack targets dictionary\n",
    "#             boxes = [target['boxes'].to(device) for target in targets]\n",
    "#             labels = [target['labels'].to(device) for target in targets]\n",
    "\n",
    "#             outputs = model(images)\n",
    "\n",
    "#             # Process model outputs\n",
    "#             class_logits = [output['scores'] for output in outputs]\n",
    "#             box_regression = [output['boxes'] for output in outputs]\n",
    "\n",
    "#             # Calculate the fasterrcnn_loss\n",
    "#             loss, _ = criterion(torch.cat(class_logits), torch.cat(box_regression), labels, boxes)\n",
    "\n",
    "#             total_loss += loss.item() * images.size(0)\n",
    "#             num_samples += images.size(0)\n",
    "\n",
    "#     validation_loss = total_loss / num_samples\n",
    "#     return validation_loss\n"
   ]
  },
  {
   "cell_type": "code",
   "execution_count": 30,
   "metadata": {},
   "outputs": [
    {
     "data": {
      "text/plain": [
       "device(type='cuda')"
      ]
     },
     "execution_count": 30,
     "metadata": {},
     "output_type": "execute_result"
    }
   ],
   "source": [
    "device = torch.device(\"cuda\" if torch.cuda.is_available() else \"cpu\")\n",
    "model.to(device)\n",
    "\n",
    "device"
   ]
  },
  {
   "cell_type": "code",
   "execution_count": 31,
   "metadata": {},
   "outputs": [
    {
     "name": "stdout",
     "output_type": "stream",
     "text": [
      "Epoch: [0]  [  0/289]  eta: 0:16:39  lr: 0.000022  loss: 3.0844 (3.0844)  loss_classifier: 2.7383 (2.7383)  loss_box_reg: 0.2480 (0.2480)  loss_objectness: 0.0779 (0.0779)  loss_rpn_box_reg: 0.0202 (0.0202)  time: 3.4569  data: 0.1350  max mem: 8561\n",
      "Epoch: [0]  [  1/289]  eta: 0:10:22  lr: 0.000040  loss: 3.0844 (3.1517)  loss_classifier: 2.7383 (2.7390)  loss_box_reg: 0.2480 (0.2996)  loss_objectness: 0.0779 (0.0882)  loss_rpn_box_reg: 0.0202 (0.0250)  time: 2.1619  data: 0.1335  max mem: 8721\n",
      "Epoch: [0]  [  2/289]  eta: 0:08:14  lr: 0.000057  loss: 3.2056 (3.1697)  loss_classifier: 2.7383 (2.7335)  loss_box_reg: 0.2766 (0.2919)  loss_objectness: 0.0985 (0.1197)  loss_rpn_box_reg: 0.0238 (0.0246)  time: 1.7246  data: 0.1373  max mem: 8721\n",
      "Epoch: [0]  [  3/289]  eta: 0:07:21  lr: 0.000074  loss: 3.0844 (3.1202)  loss_classifier: 2.7224 (2.7140)  loss_box_reg: 0.2480 (0.2612)  loss_objectness: 0.0985 (0.1225)  loss_rpn_box_reg: 0.0202 (0.0225)  time: 1.5454  data: 0.1725  max mem: 8721\n",
      "Epoch: [0]  [  4/289]  eta: 0:06:41  lr: 0.000092  loss: 3.0844 (3.0927)  loss_classifier: 2.7224 (2.6976)  loss_box_reg: 0.2480 (0.2583)  loss_objectness: 0.0985 (0.1154)  loss_rpn_box_reg: 0.0202 (0.0214)  time: 1.4095  data: 0.1666  max mem: 8721\n",
      "Epoch: [0]  [  5/289]  eta: 0:06:13  lr: 0.000109  loss: 2.9824 (3.0533)  loss_classifier: 2.6558 (2.6709)  loss_box_reg: 0.2468 (0.2478)  loss_objectness: 0.0985 (0.1139)  loss_rpn_box_reg: 0.0179 (0.0208)  time: 1.3145  data: 0.1613  max mem: 8721\n",
      "Epoch: [0]  [  6/289]  eta: 0:05:59  lr: 0.000126  loss: 2.9824 (3.0189)  loss_classifier: 2.6558 (2.6380)  loss_box_reg: 0.2468 (0.2386)  loss_objectness: 0.1064 (0.1219)  loss_rpn_box_reg: 0.0179 (0.0204)  time: 1.2719  data: 0.1829  max mem: 8721\n",
      "Epoch: [0]  [  7/289]  eta: 0:05:48  lr: 0.000144  loss: 2.9717 (3.0031)  loss_classifier: 2.6319 (2.5998)  loss_box_reg: 0.2468 (0.2566)  loss_objectness: 0.1064 (0.1253)  loss_rpn_box_reg: 0.0179 (0.0214)  time: 1.2350  data: 0.1936  max mem: 8721\n",
      "Epoch: [0]  [  8/289]  eta: 0:05:35  lr: 0.000161  loss: 2.9717 (2.9428)  loss_classifier: 2.6319 (2.5464)  loss_box_reg: 0.2480 (0.2593)  loss_objectness: 0.1064 (0.1165)  loss_rpn_box_reg: 0.0179 (0.0206)  time: 1.1947  data: 0.1906  max mem: 8721\n",
      "Epoch: [0]  [  9/289]  eta: 0:05:24  lr: 0.000178  loss: 2.8924 (2.8783)  loss_classifier: 2.5371 (2.4827)  loss_box_reg: 0.2480 (0.2602)  loss_objectness: 0.1023 (0.1150)  loss_rpn_box_reg: 0.0179 (0.0203)  time: 1.1583  data: 0.1867  max mem: 8721\n",
      "Epoch: [0]  [ 10/289]  eta: 0:05:13  lr: 0.000196  loss: 2.8924 (2.7990)  loss_classifier: 2.5371 (2.4095)  loss_box_reg: 0.2480 (0.2571)  loss_objectness: 0.1023 (0.1127)  loss_rpn_box_reg: 0.0179 (0.0197)  time: 1.1250  data: 0.1809  max mem: 8721\n",
      "Epoch: [0]  [ 11/289]  eta: 0:05:06  lr: 0.000213  loss: 2.8566 (2.7149)  loss_classifier: 2.4411 (2.3253)  loss_box_reg: 0.2480 (0.2598)  loss_objectness: 0.0985 (0.1097)  loss_rpn_box_reg: 0.0179 (0.0201)  time: 1.1010  data: 0.1798  max mem: 8721\n",
      "Epoch: [0]  [ 12/289]  eta: 0:04:59  lr: 0.000230  loss: 2.8566 (2.6286)  loss_classifier: 2.4411 (2.2389)  loss_box_reg: 0.2682 (0.2608)  loss_objectness: 0.0985 (0.1088)  loss_rpn_box_reg: 0.0179 (0.0200)  time: 1.0807  data: 0.1763  max mem: 8721\n",
      "Epoch: [0]  [ 13/289]  eta: 0:04:54  lr: 0.000248  loss: 2.8126 (2.5411)  loss_classifier: 2.3318 (2.1500)  loss_box_reg: 0.2682 (0.2626)  loss_objectness: 0.0985 (0.1086)  loss_rpn_box_reg: 0.0179 (0.0199)  time: 1.0662  data: 0.1754  max mem: 8721\n",
      "Epoch: [0]  [ 14/289]  eta: 0:04:50  lr: 0.000265  loss: 2.8126 (2.4538)  loss_classifier: 2.3318 (2.0551)  loss_box_reg: 0.2682 (0.2606)  loss_objectness: 0.1023 (0.1176)  loss_rpn_box_reg: 0.0187 (0.0205)  time: 1.0554  data: 0.1769  max mem: 8721\n",
      "Epoch: [0]  [ 15/289]  eta: 0:04:46  lr: 0.000282  loss: 2.4606 (2.3565)  loss_classifier: 2.1198 (1.9620)  loss_box_reg: 0.2480 (0.2584)  loss_objectness: 0.0985 (0.1161)  loss_rpn_box_reg: 0.0179 (0.0201)  time: 1.0443  data: 0.1752  max mem: 8721\n",
      "Epoch: [0]  [ 16/289]  eta: 0:04:42  lr: 0.000300  loss: 2.4606 (2.2612)  loss_classifier: 2.1198 (1.8715)  loss_box_reg: 0.2480 (0.2558)  loss_objectness: 0.0985 (0.1141)  loss_rpn_box_reg: 0.0179 (0.0198)  time: 1.0341  data: 0.1742  max mem: 8721\n",
      "Epoch: [0]  [ 17/289]  eta: 0:04:38  lr: 0.000317  loss: 2.2974 (2.1756)  loss_classifier: 1.9095 (1.7896)  loss_box_reg: 0.2480 (0.2560)  loss_objectness: 0.0984 (0.1103)  loss_rpn_box_reg: 0.0179 (0.0198)  time: 1.0245  data: 0.1728  max mem: 8721\n",
      "Epoch: [0]  [ 18/289]  eta: 0:04:34  lr: 0.000335  loss: 2.2974 (2.1108)  loss_classifier: 1.9095 (1.7220)  loss_box_reg: 0.2594 (0.2573)  loss_objectness: 0.0985 (0.1116)  loss_rpn_box_reg: 0.0187 (0.0198)  time: 1.0147  data: 0.1706  max mem: 8721\n",
      "Epoch: [0]  [ 19/289]  eta: 0:04:31  lr: 0.000352  loss: 2.0059 (2.0480)  loss_classifier: 1.6775 (1.6592)  loss_box_reg: 0.2583 (0.2573)  loss_objectness: 0.0985 (0.1118)  loss_rpn_box_reg: 0.0179 (0.0196)  time: 1.0050  data: 0.1693  max mem: 8721\n",
      "Epoch: [0]  [ 20/289]  eta: 0:04:29  lr: 0.000369  loss: 1.7894 (1.9867)  loss_classifier: 1.3982 (1.6017)  loss_box_reg: 0.2594 (0.2579)  loss_objectness: 0.0985 (0.1078)  loss_rpn_box_reg: 0.0179 (0.0192)  time: 0.8785  data: 0.1750  max mem: 8721\n",
      "Epoch: [0]  [ 21/289]  eta: 0:04:26  lr: 0.000387  loss: 1.5935 (1.9399)  loss_classifier: 1.2029 (1.5536)  loss_box_reg: 0.2594 (0.2606)  loss_objectness: 0.0984 (0.1063)  loss_rpn_box_reg: 0.0179 (0.0193)  time: 0.8791  data: 0.1756  max mem: 8721\n",
      "Epoch: [0]  [ 22/289]  eta: 0:04:24  lr: 0.000404  loss: 1.4036 (1.8986)  loss_classifier: 0.9935 (1.5119)  loss_box_reg: 0.2594 (0.2634)  loss_objectness: 0.0924 (0.1042)  loss_rpn_box_reg: 0.0174 (0.0191)  time: 0.8790  data: 0.1751  max mem: 8721\n",
      "Epoch: [0]  [ 23/289]  eta: 0:04:23  lr: 0.000421  loss: 1.2322 (1.8633)  loss_classifier: 0.7269 (1.4734)  loss_box_reg: 0.2682 (0.2655)  loss_objectness: 0.0894 (0.1031)  loss_rpn_box_reg: 0.0179 (0.0214)  time: 0.8776  data: 0.1707  max mem: 8721\n",
      "Epoch: [0]  [ 24/289]  eta: 0:04:21  lr: 0.000439  loss: 1.1520 (1.8349)  loss_classifier: 0.7118 (1.4429)  loss_box_reg: 0.2696 (0.2690)  loss_objectness: 0.0894 (0.1016)  loss_rpn_box_reg: 0.0179 (0.0214)  time: 0.8800  data: 0.1721  max mem: 8721\n",
      "Epoch: [0]  [ 25/289]  eta: 0:04:19  lr: 0.000456  loss: 1.1271 (1.8076)  loss_classifier: 0.6787 (1.4135)  loss_box_reg: 0.2725 (0.2718)  loss_objectness: 0.0831 (0.1009)  loss_rpn_box_reg: 0.0187 (0.0215)  time: 0.8816  data: 0.1729  max mem: 8721\n",
      "Epoch: [0]  [ 26/289]  eta: 0:04:17  lr: 0.000473  loss: 1.0524 (1.7710)  loss_classifier: 0.5934 (1.3800)  loss_box_reg: 0.2725 (0.2714)  loss_objectness: 0.0822 (0.0985)  loss_rpn_box_reg: 0.0187 (0.0211)  time: 0.8746  data: 0.1648  max mem: 8721\n",
      "Epoch: [0]  [ 27/289]  eta: 0:04:14  lr: 0.000491  loss: 1.0524 (1.7499)  loss_classifier: 0.5934 (1.3571)  loss_box_reg: 0.2725 (0.2755)  loss_objectness: 0.0789 (0.0964)  loss_rpn_box_reg: 0.0174 (0.0209)  time: 0.8686  data: 0.1585  max mem: 8721\n",
      "Epoch: [0]  [ 28/289]  eta: 0:04:12  lr: 0.000508  loss: 1.0524 (1.7335)  loss_classifier: 0.5934 (1.3378)  loss_box_reg: 0.2725 (0.2799)  loss_objectness: 0.0789 (0.0950)  loss_rpn_box_reg: 0.0175 (0.0208)  time: 0.8672  data: 0.1570  max mem: 8721\n",
      "Epoch: [0]  [ 29/289]  eta: 0:04:10  lr: 0.000525  loss: 0.9906 (1.7036)  loss_classifier: 0.5870 (1.3102)  loss_box_reg: 0.2798 (0.2799)  loss_objectness: 0.0767 (0.0931)  loss_rpn_box_reg: 0.0175 (0.0204)  time: 0.8684  data: 0.1559  max mem: 8721\n",
      "Epoch: [0]  [ 30/289]  eta: 0:04:08  lr: 0.000543  loss: 0.9906 (1.6827)  loss_classifier: 0.5870 (1.2887)  loss_box_reg: 0.2807 (0.2825)  loss_objectness: 0.0747 (0.0913)  loss_rpn_box_reg: 0.0175 (0.0202)  time: 0.8691  data: 0.1561  max mem: 8721\n",
      "Epoch: [0]  [ 31/289]  eta: 0:04:06  lr: 0.000560  loss: 0.9832 (1.6608)  loss_classifier: 0.5789 (1.2665)  loss_box_reg: 0.2807 (0.2843)  loss_objectness: 0.0656 (0.0902)  loss_rpn_box_reg: 0.0160 (0.0198)  time: 0.8696  data: 0.1557  max mem: 8721\n"
     ]
    },
    {
     "ename": "KeyboardInterrupt",
     "evalue": "",
     "output_type": "error",
     "traceback": [
      "\u001b[1;31m---------------------------------------------------------------------------\u001b[0m",
      "\u001b[1;31mKeyboardInterrupt\u001b[0m                         Traceback (most recent call last)",
      "Cell \u001b[1;32mIn[31], line 11\u001b[0m\n\u001b[0;32m      7\u001b[0m losses \u001b[39m=\u001b[39m []\n\u001b[0;32m      9\u001b[0m \u001b[39mfor\u001b[39;00m epoch \u001b[39min\u001b[39;00m \u001b[39mrange\u001b[39m(NUM_EPOCHS):\n\u001b[0;32m     10\u001b[0m     \u001b[39m# training for one epoch\u001b[39;00m\n\u001b[1;32m---> 11\u001b[0m     train_one_epoch(model, optimizer, train_data_loader, device, epoch, print_freq\u001b[39m=\u001b[39;49m\u001b[39m1\u001b[39;49m, losses_out\u001b[39m=\u001b[39;49mlosses)\n\u001b[0;32m     12\u001b[0m     \u001b[39m# update the learning rate\u001b[39;00m\n\u001b[0;32m     13\u001b[0m     lr_scheduler\u001b[39m.\u001b[39mstep()\n",
      "File \u001b[1;32mc:\\GIT_Workspaces\\Deep-Vision-sta\\Faster R-CNN\\engine.py:58\u001b[0m, in \u001b[0;36mtrain_one_epoch\u001b[1;34m(model, optimizer, data_loader, device, epoch, print_freq, scaler, losses_out)\u001b[0m\n\u001b[0;32m     55\u001b[0m     \u001b[39mif\u001b[39;00m lr_scheduler \u001b[39mis\u001b[39;00m \u001b[39mnot\u001b[39;00m \u001b[39mNone\u001b[39;00m:\n\u001b[0;32m     56\u001b[0m         lr_scheduler\u001b[39m.\u001b[39mstep()\n\u001b[1;32m---> 58\u001b[0m     metric_logger\u001b[39m.\u001b[39mupdate(loss\u001b[39m=\u001b[39mlosses_reduced, \u001b[39m*\u001b[39m\u001b[39m*\u001b[39mloss_dict_reduced)\n\u001b[0;32m     59\u001b[0m     metric_logger\u001b[39m.\u001b[39mupdate(lr\u001b[39m=\u001b[39moptimizer\u001b[39m.\u001b[39mparam_groups[\u001b[39m0\u001b[39m][\u001b[39m\"\u001b[39m\u001b[39mlr\u001b[39m\u001b[39m\"\u001b[39m])\n\u001b[0;32m     61\u001b[0m \u001b[39mreturn\u001b[39;00m metric_logger\n",
      "File \u001b[1;32mc:\\GIT_Workspaces\\Deep-Vision-sta\\Faster R-CNN\\utils.py:122\u001b[0m, in \u001b[0;36mMetricLogger.update\u001b[1;34m(self, **kwargs)\u001b[0m\n\u001b[0;32m    120\u001b[0m \u001b[39mif\u001b[39;00m \u001b[39misinstance\u001b[39m(v, torch\u001b[39m.\u001b[39mTensor):\n\u001b[0;32m    121\u001b[0m     v \u001b[39m=\u001b[39m v\u001b[39m.\u001b[39mitem()\n\u001b[1;32m--> 122\u001b[0m \u001b[39massert\u001b[39;00m \u001b[39misinstance\u001b[39;49m(v, (\u001b[39mfloat\u001b[39m, \u001b[39mint\u001b[39m))\n\u001b[0;32m    123\u001b[0m \u001b[39mself\u001b[39m\u001b[39m.\u001b[39mmeters[k]\u001b[39m.\u001b[39mupdate(v)\n",
      "\u001b[1;31mKeyboardInterrupt\u001b[0m: "
     ]
    }
   ],
   "source": [
    "from engine import train_one_epoch, evaluate\n",
    "\n",
    "# Define empty arrays to collect metrics\n",
    "ap_values = []\n",
    "ar_values = []\n",
    "\n",
    "losses = []\n",
    "\n",
    "for epoch in range(NUM_EPOCHS):\n",
    "    # training for one epoch\n",
    "    train_one_epoch(model, optimizer, train_data_loader, device, epoch, print_freq=1, losses_out=losses)\n",
    "    # update the learning rate\n",
    "    lr_scheduler.step()\n",
    "    # evaluate on the test dataset\n",
    "    # adjusted numpy library code for evaluate to work with newer numpy versions\n",
    "    evaluator = evaluate(model, val_data_loader, device=device)\n",
    "    #print(evaluator)\n",
    "\n",
    "    # Extract the metrics from the evaluator\n",
    "    iou_thresholds = evaluator.coco_eval['bbox'].params.iouThrs\n",
    "    average_precisions = evaluator.coco_eval['bbox'].stats[:6]\n",
    "    average_recalls = evaluator.coco_eval['bbox'].stats[6:]\n",
    "\n",
    "    # Append the metrics to the arrays\n",
    "    ap_values.append(average_precisions)\n",
    "    ar_values.append(average_recalls)\n"
   ]
  },
  {
   "cell_type": "code",
   "execution_count": null,
   "metadata": {},
   "outputs": [
    {
     "ename": "",
     "evalue": "",
     "output_type": "error",
     "traceback": [
      "\u001b[1;31mRunning cells with 'c:\\Python311\\python.exe' requires the ipykernel package.\n",
      "\u001b[1;31mRun the following command to install 'ipykernel' into the Python environment. \n",
      "\u001b[1;31mCommand: 'c:/Python311/python.exe -m pip install ipykernel -U --user --force-reinstall'"
     ]
    }
   ],
   "source": [
    "%matplotlib inline\n",
    "\n",
    "plt.plot(losses)\n",
    "plt.xlabel(\"Iteration\")\n",
    "plt.ylabel(\"Loss\")\n",
    "plt.show()"
   ]
  },
  {
   "cell_type": "code",
   "execution_count": null,
   "metadata": {},
   "outputs": [
    {
     "ename": "",
     "evalue": "",
     "output_type": "error",
     "traceback": [
      "\u001b[1;31mRunning cells with 'c:\\Python311\\python.exe' requires the ipykernel package.\n",
      "\u001b[1;31mRun the following command to install 'ipykernel' into the Python environment. \n",
      "\u001b[1;31mCommand: 'c:/Python311/python.exe -m pip install ipykernel -U --user --force-reinstall'"
     ]
    }
   ],
   "source": [
    "%matplotlib inline\n",
    "\n",
    "# Convert the arrays to numpy arrays for easier plotting\n",
    "ap_values = np.array(ap_values)\n",
    "ar_values = np.array(ar_values)\n",
    "\n",
    "iou_thresholds_available = [\"0.50:0.95\", \"0.50\", \"0.75\", \"0.50:0.95_small\", \"0.50:0.95_medium\", \"0.50:0.95_large\"]\n",
    "\n",
    "# Plot the average precisions over epochs\n",
    "plt.figure(figsize=(10, 5))\n",
    "for i, iou_thresh in enumerate(iou_thresholds_available):\n",
    "    plt.plot(ap_values[:, i], label=f\"IoU={iou_thresh}\")\n",
    "plt.xlabel(\"Epochs\")\n",
    "plt.ylabel(\"Average Precision\")\n",
    "plt.title(\"Average Precision vs. Epochs\")\n",
    "plt.legend()\n",
    "plt.show()\n",
    "\n",
    "# Plot the average recalls over epochs\n",
    "plt.figure(figsize=(10, 5))\n",
    "for i, iou_thresh in enumerate(iou_thresholds_available):\n",
    "    plt.plot(ar_values[:, i], label=f\"IoU={iou_thresh}\")\n",
    "plt.xlabel(\"Epochs\")\n",
    "plt.ylabel(\"Average Recall\")\n",
    "plt.title(\"Average Recall vs. Epochs\")\n",
    "plt.legend()\n",
    "plt.show()"
   ]
  },
  {
   "cell_type": "code",
   "execution_count": null,
   "metadata": {},
   "outputs": [
    {
     "ename": "",
     "evalue": "",
     "output_type": "error",
     "traceback": [
      "\u001b[1;31mRunning cells with 'c:\\Python311\\python.exe' requires the ipykernel package.\n",
      "\u001b[1;31mRun the following command to install 'ipykernel' into the Python environment. \n",
      "\u001b[1;31mCommand: 'c:/Python311/python.exe -m pip install ipykernel -U --user --force-reinstall'"
     ]
    }
   ],
   "source": [
    "iter = iter(val_data_loader)"
   ]
  },
  {
   "cell_type": "code",
   "execution_count": null,
   "metadata": {},
   "outputs": [
    {
     "ename": "",
     "evalue": "",
     "output_type": "error",
     "traceback": [
      "\u001b[1;31mRunning cells with 'c:\\Python311\\python.exe' requires the ipykernel package.\n",
      "\u001b[1;31mRun the following command to install 'ipykernel' into the Python environment. \n",
      "\u001b[1;31mCommand: 'c:/Python311/python.exe -m pip install ipykernel -U --user --force-reinstall'"
     ]
    }
   ],
   "source": [
    "\n",
    "\n",
    "samples = next(iter)\n",
    "\n",
    "#get a sample from the samples\n",
    "\n",
    "sample = samples[0]\n",
    "image = sample[0]\n",
    "\n",
    "# model.eval()\n",
    "# with torch.no_grad():\n",
    "#     predictions = model(samples[0].to(device))\n",
    "\n",
    "# prediction\n",
    "samples"
   ]
  },
  {
   "cell_type": "code",
   "execution_count": null,
   "metadata": {},
   "outputs": [
    {
     "ename": "",
     "evalue": "",
     "output_type": "error",
     "traceback": [
      "\u001b[1;31mRunning cells with 'c:\\Python311\\python.exe' requires the ipykernel package.\n",
      "\u001b[1;31mRun the following command to install 'ipykernel' into the Python environment. \n",
      "\u001b[1;31mCommand: 'c:/Python311/python.exe -m pip install ipykernel -U --user --force-reinstall'"
     ]
    }
   ],
   "source": [
    "import matplotlib.pyplot as plt\n",
    "import matplotlib.patches as patches\n",
    "from IPython.display import Image, display\n",
    "\n",
    "def visualize_prediction2(image, boxes, labels):\n",
    "    # Create figure and axes\n",
    "    fig, ax = plt.subplots(1)\n",
    "\n",
    "    # Display the image\n",
    "    ax.imshow(image.permute(1, 2, 0))\n",
    "\n",
    "    # Iterate over all bounding boxes\n",
    "    for box, label in zip(boxes, labels):\n",
    "        # Get the coordinates of the bounding box\n",
    "        x_min, y_min, x_max, y_max = box\n",
    "\n",
    "        # Create a Rectangle patch\n",
    "        rect = patches.Rectangle((x_min, y_min), x_max - x_min, y_max - y_min, linewidth=1, edgecolor='r', facecolor='none')\n",
    "\n",
    "        # Add the patch to the Axes\n",
    "        ax.add_patch(rect)\n",
    "\n",
    "        # Add the class label\n",
    "        text = f\"{label}\"\n",
    "        ax.text(x_min, y_min, text, bbox=dict(facecolor='white', alpha=0.5))\n",
    "\n",
    "    # Save the plot as an image\n",
    "    fig.savefig('output.png')\n",
    "\n",
    "    # Close the figure to free up resources\n",
    "    plt.close(fig)\n",
    "\n",
    "    # Display the saved image\n",
    "    display(Image('output.png'))\n",
    "\n",
    "# Call the function with your image, bounding boxes, and labels\n",
    "# visualize_prediction(image, boxes, labels)\n"
   ]
  },
  {
   "cell_type": "code",
   "execution_count": null,
   "metadata": {},
   "outputs": [
    {
     "ename": "",
     "evalue": "",
     "output_type": "error",
     "traceback": [
      "\u001b[1;31mRunning cells with 'c:\\Python311\\python.exe' requires the ipykernel package.\n",
      "\u001b[1;31mRun the following command to install 'ipykernel' into the Python environment. \n",
      "\u001b[1;31mCommand: 'c:/Python311/python.exe -m pip install ipykernel -U --user --force-reinstall'"
     ]
    }
   ],
   "source": [
    "def visualize_prediction(images, model, confidence_threshold, allowed_labels = [3, 4, 5, 6]):\n",
    "    # Set the model to evaluation mode\n",
    "    model.eval()\n",
    "    mean=[0.485, 0.456, 0.406] \n",
    "    std=[0.229, 0.224, 0.225]\n",
    "    # Preprocess the images\n",
    "    ims = list(image.to(device) for image in images)\n",
    "    # Perform inference\n",
    "    with torch.no_grad():\n",
    "        predictions = model(ims)\n",
    "        #good = torch.argwhere(scores > confidence_threshold)\n",
    "        #print(predictions)\n",
    "\n",
    "    for image, prediction in zip(images, predictions):\n",
    "        # Convert the image tensor to a PIL Image\n",
    "        #image_pil = transforms.ToPILImage()(image)\n",
    "\n",
    "        # Unnormalize the image\n",
    "        image_pil = transforms.ToPILImage()(image)\n",
    "\n",
    "\n",
    "        # Get the predicted bounding boxes, labels, and scores\n",
    "        boxes = prediction['boxes'].cpu().numpy()\n",
    "        labels = prediction['labels'].cpu().numpy()\n",
    "        scores = prediction['scores'].cpu().numpy()\n",
    "\n",
    "        # Visualize the image and predicted bounding boxes\n",
    "        fig, ax = plt.subplots(1)\n",
    "        ax.imshow(image_pil)\n",
    "\n",
    "        for box, label, score in zip(boxes, labels, scores):\n",
    "            if label in allowed_labels and score > confidence_threshold:\n",
    "                x_min, y_min, x_max, y_max = box\n",
    "                width = x_max - x_min\n",
    "                height = y_max - y_min\n",
    "                class_name = list(CLASS_LABELS.keys())[list(CLASS_LABELS.values()).index(label)]\n",
    "                rect = patches.Rectangle((x_min, y_min), width, height, linewidth=2, edgecolor='r', facecolor='none')\n",
    "                ax.add_patch(rect)\n",
    "                ax.text(x_min, y_min, f\"{class_name}\", color='r', fontsize=8, bbox=dict(facecolor='white', alpha=0.7, edgecolor='none'))\n",
    "\n",
    "        plt.show()\n",
    "    model.train()"
   ]
  },
  {
   "cell_type": "code",
   "execution_count": null,
   "metadata": {},
   "outputs": [
    {
     "ename": "",
     "evalue": "",
     "output_type": "error",
     "traceback": [
      "\u001b[1;31mRunning cells with 'c:\\Python311\\python.exe' requires the ipykernel package.\n",
      "\u001b[1;31mRun the following command to install 'ipykernel' into the Python environment. \n",
      "\u001b[1;31mCommand: 'c:/Python311/python.exe -m pip install ipykernel -U --user --force-reinstall'"
     ]
    }
   ],
   "source": [
    "samples[1][0]"
   ]
  },
  {
   "cell_type": "code",
   "execution_count": null,
   "metadata": {},
   "outputs": [
    {
     "ename": "",
     "evalue": "",
     "output_type": "error",
     "traceback": [
      "\u001b[1;31mRunning cells with 'c:\\Python311\\python.exe' requires the ipykernel package.\n",
      "\u001b[1;31mRun the following command to install 'ipykernel' into the Python environment. \n",
      "\u001b[1;31mCommand: 'c:/Python311/python.exe -m pip install ipykernel -U --user --force-reinstall'"
     ]
    }
   ],
   "source": [
    "%matplotlib inline\n",
    "\n",
    "image_pil = transforms.ToPILImage()(samples[0][0])\n",
    "\n",
    "fig, ax = plt.subplots(1)\n",
    "ax.imshow(image_pil)\n",
    "plt.show()\n"
   ]
  },
  {
   "cell_type": "code",
   "execution_count": null,
   "metadata": {},
   "outputs": [
    {
     "ename": "",
     "evalue": "",
     "output_type": "error",
     "traceback": [
      "\u001b[1;31mRunning cells with 'c:\\Python311\\python.exe' requires the ipykernel package.\n",
      "\u001b[1;31mRun the following command to install 'ipykernel' into the Python environment. \n",
      "\u001b[1;31mCommand: 'c:/Python311/python.exe -m pip install ipykernel -U --user --force-reinstall'"
     ]
    }
   ],
   "source": [
    "visualize_prediction(samples[0], model, 0.5, [0,1,2,3,4,5,6,7,8,9,10,11,12,13,14,15,16,17,18,19])"
   ]
  },
  {
   "cell_type": "code",
   "execution_count": null,
   "metadata": {},
   "outputs": [
    {
     "ename": "",
     "evalue": "",
     "output_type": "error",
     "traceback": [
      "\u001b[1;31mRunning cells with 'c:\\Python311\\python.exe' requires the ipykernel package.\n",
      "\u001b[1;31mRun the following command to install 'ipykernel' into the Python environment. \n",
      "\u001b[1;31mCommand: 'c:/Python311/python.exe -m pip install ipykernel -U --user --force-reinstall'"
     ]
    }
   ],
   "source": [
    "model.eval()\n",
    "model([image.to(device)])"
   ]
  },
  {
   "cell_type": "code",
   "execution_count": null,
   "metadata": {},
   "outputs": [
    {
     "ename": "",
     "evalue": "",
     "output_type": "error",
     "traceback": [
      "\u001b[1;31mRunning cells with 'c:\\Python311\\python.exe' requires the ipykernel package.\n",
      "\u001b[1;31mRun the following command to install 'ipykernel' into the Python environment. \n",
      "\u001b[1;31mCommand: 'c:/Python311/python.exe -m pip install ipykernel -U --user --force-reinstall'"
     ]
    }
   ],
   "source": [
    "dataset.__getitem__(1)"
   ]
  },
  {
   "cell_type": "code",
   "execution_count": null,
   "metadata": {},
   "outputs": [
    {
     "ename": "",
     "evalue": "",
     "output_type": "error",
     "traceback": [
      "\u001b[1;31mRunning cells with 'c:\\Python311\\python.exe' requires the ipykernel package.\n",
      "\u001b[1;31mRun the following command to install 'ipykernel' into the Python environment. \n",
      "\u001b[1;31mCommand: 'c:/Python311/python.exe -m pip install ipykernel -U --user --force-reinstall'"
     ]
    }
   ],
   "source": [
    "torch.save(model.state_dict(), \"mask_detection_model.pth\")\n"
   ]
  },
  {
   "cell_type": "code",
   "execution_count": null,
   "metadata": {},
   "outputs": [
    {
     "ename": "",
     "evalue": "",
     "output_type": "error",
     "traceback": [
      "\u001b[1;31mRunning cells with 'c:\\Python311\\python.exe' requires the ipykernel package.\n",
      "\u001b[1;31mRun the following command to install 'ipykernel' into the Python environment. \n",
      "\u001b[1;31mCommand: 'c:/Python311/python.exe -m pip install ipykernel -U --user --force-reinstall'"
     ]
    }
   ],
   "source": []
  }
 ],
 "metadata": {
  "kernelspec": {
   "display_name": "DV-STA",
   "language": "python",
   "name": "python3"
  },
  "language_info": {
   "codemirror_mode": {
    "name": "ipython",
    "version": 3
   },
   "file_extension": ".py",
   "mimetype": "text/x-python",
   "name": "python",
   "nbconvert_exporter": "python",
   "pygments_lexer": "ipython3",
   "version": "3.9.16"
  },
  "orig_nbformat": 4
 },
 "nbformat": 4,
 "nbformat_minor": 2
}
