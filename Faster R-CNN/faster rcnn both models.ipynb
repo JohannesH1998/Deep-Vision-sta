{
 "cells": [
  {
   "cell_type": "code",
   "execution_count": 5,
   "metadata": {},
   "outputs": [],
   "source": [
    "from face_mask_datasets import MaskDetectionDatasetJSON, MaskDetectionDatasetXML\n",
    "\n",
    "CLASS_LABELS = {\n",
    "    \"hijab_niqab\": 0,\n",
    "    \"mask_colorful\": 1,\n",
    "    \"mask_surgical\": 2,\n",
    "    \"face_no_mask\": 3,\n",
    "    \"face_with_mask_incorrect\": 4,\n",
    "    \"face_with_mask\": 5,\n",
    "    \"face_other_covering\": 6,\n",
    "    \"scarf_bandana\": 7,\n",
    "    \"balaclava_ski_mask\": 8,\n",
    "    \"face_shield\": 9,\n",
    "    \"other\": 10,\n",
    "    \"gas_mask\": 11,\n",
    "    \"turban\": 12,\n",
    "    \"helmet\": 13,\n",
    "    \"sunglasses\": 14,\n",
    "    \"eyeglasses\": 15,\n",
    "    \"hair_net\": 16,\n",
    "    \"hat\": 17,\n",
    "    \"goggles\": 18,\n",
    "    \"hood\": 19\n",
    "}"
   ]
  },
  {
   "cell_type": "code",
   "execution_count": 7,
   "metadata": {},
   "outputs": [],
   "source": [
    "dataset_full = MaskDetectionDatasetJSON(\"C:\\GIT_Workspaces\\Deep-Vision-sta\\Datasets\\Face Mask Detection Dataset\\Medical mask\\Medical mask\\Medical Mask\",CLASS_LABELS, (512,512))\n",
    "dataset_singleFaces = MaskDetectionDatasetJSON(\"C:\\GIT_Workspaces\\Deep-Vision-sta\\Datasets\\Face Mask Detection Dataset\\Medical mask\\Medical mask\\Medical Mask\",CLASS_LABELS,(512,512), only_single_faces=True)\n",
    "\n",
    "dataset_xml = MaskDetectionDatasetXML(\"C:\\GIT_Workspaces\\Deep-Vision-sta\\Datasets\\Kaggle Face Mask Detection Full\",(512,512))\n",
    "dataset_low_light = MaskDetectionDatasetXML(\"C:\\GIT_Workspaces\\Deep-Vision-sta\\Datasets\\Kaggle Face Mask Detection Full\",(512,512), use_dark_images=True)"
   ]
  },
  {
   "cell_type": "code",
   "execution_count": 9,
   "metadata": {},
   "outputs": [
    {
     "data": {
      "text/plain": [
       "(tensor([[[0.5961, 0.5961, 0.5961,  ..., 0.6235, 0.6275, 0.6314],\n",
       "          [0.5961, 0.5961, 0.6000,  ..., 0.6275, 0.6275, 0.6275],\n",
       "          [0.5961, 0.5961, 0.5961,  ..., 0.6314, 0.6275, 0.6275],\n",
       "          ...,\n",
       "          [0.2784, 0.2784, 0.2745,  ..., 0.5137, 0.5137, 0.5059],\n",
       "          [0.2784, 0.2784, 0.2745,  ..., 0.5137, 0.5098, 0.5020],\n",
       "          [0.2784, 0.2745, 0.2745,  ..., 0.5098, 0.5098, 0.5059]],\n",
       " \n",
       "         [[0.5725, 0.5725, 0.5725,  ..., 0.6078, 0.6118, 0.6078],\n",
       "          [0.5725, 0.5725, 0.5765,  ..., 0.6078, 0.6118, 0.6118],\n",
       "          [0.5725, 0.5725, 0.5725,  ..., 0.6078, 0.6078, 0.6118],\n",
       "          ...,\n",
       "          [0.2627, 0.2627, 0.2588,  ..., 0.4784, 0.4784, 0.4784],\n",
       "          [0.2627, 0.2627, 0.2588,  ..., 0.4784, 0.4745, 0.4745],\n",
       "          [0.2627, 0.2588, 0.2588,  ..., 0.4745, 0.4745, 0.4745]],\n",
       " \n",
       "         [[0.5804, 0.5804, 0.5804,  ..., 0.6118, 0.6157, 0.6157],\n",
       "          [0.5804, 0.5804, 0.5843,  ..., 0.6157, 0.6157, 0.6157],\n",
       "          [0.5804, 0.5804, 0.5804,  ..., 0.6157, 0.6118, 0.6157],\n",
       "          ...,\n",
       "          [0.2667, 0.2627, 0.2549,  ..., 0.4980, 0.4980, 0.4941],\n",
       "          [0.2667, 0.2627, 0.2588,  ..., 0.4980, 0.4980, 0.4941],\n",
       "          [0.2667, 0.2627, 0.2588,  ..., 0.5020, 0.5020, 0.4980]]]),\n",
       " {'boxes': tensor([[166.6032,  68.7596, 330.6205, 257.6635]]),\n",
       "  'labels': tensor([3]),\n",
       "  'area': tensor([30983.5215]),\n",
       "  'iscrowd': tensor([0]),\n",
       "  'image_id': tensor([0])})"
      ]
     },
     "execution_count": 9,
     "metadata": {},
     "output_type": "execute_result"
    }
   ],
   "source": []
  },
  {
   "cell_type": "code",
   "execution_count": null,
   "metadata": {},
   "outputs": [],
   "source": []
  }
 ],
 "metadata": {
  "kernelspec": {
   "display_name": "DV-STA",
   "language": "python",
   "name": "python3"
  },
  "language_info": {
   "codemirror_mode": {
    "name": "ipython",
    "version": 3
   },
   "file_extension": ".py",
   "mimetype": "text/x-python",
   "name": "python",
   "nbconvert_exporter": "python",
   "pygments_lexer": "ipython3",
   "version": "3.9.16"
  },
  "orig_nbformat": 4
 },
 "nbformat": 4,
 "nbformat_minor": 2
}
